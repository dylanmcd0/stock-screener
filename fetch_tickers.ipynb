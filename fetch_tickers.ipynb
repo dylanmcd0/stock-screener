{
 "cells": [
  {
   "cell_type": "code",
   "execution_count": 69,
   "metadata": {},
   "outputs": [],
   "source": [
    "import yfinance as yf\n",
    "import pandas as pd\n",
    "import requests\n",
    "import datetime\n",
    "import mplfinance as mpf\n",
    "from newsapi import NewsApiClient"
   ]
  },
  {
   "cell_type": "code",
   "execution_count": 142,
   "metadata": {},
   "outputs": [],
   "source": [
    "def fetch_stock_data(ticker):\n",
    "    \"\"\"Fetches historical stock data for the given ticker from Yahoo Finance API\"\"\"\n",
    "    try:\n",
    "        today = datetime.date.today().strftime(\"%Y-%m-%d\")\n",
    "        data = yf.download(ticker, start=\"1900-01-01\", end=today, group_by=\"ticker\")\n",
    "        if data.empty:\n",
    "            raise Exception(\"No data available for the given ticker.\")\n",
    "        else:\n",
    "            data.columns = data.columns.droplevel(0)\n",
    "            data.index = data.index.date\n",
    "            data.columns = [\"Open\", \"High\", \"Low\", \"Close\", \"Volume\"]\n",
    "            return data\n",
    "    except Exception as e:\n",
    "        print(f\"Error fetching stock data for {ticker}: {str(e)}\")\n",
    "        return None"
   ]
  },
  {
   "cell_type": "code",
   "execution_count": 143,
   "metadata": {},
   "outputs": [
    {
     "name": "stderr",
     "output_type": "stream",
     "text": [
      "[*********************100%***********************]  1 of 1 completed\n"
     ]
    }
   ],
   "source": [
    "data = fetch_stock_data(\"AAPL\")"
   ]
  },
  {
   "cell_type": "code",
   "execution_count": 144,
   "metadata": {},
   "outputs": [],
   "source": [
    "date_ranges = {\n",
    "    \"1D\": 1, \"1W\": 7, \"1M\": 30, \"YTD\": \"YTD\", \"1Y\": 365, \"5Y\": 1825, \"MAX\": \"MAX\"\n",
    "}\n",
    "\n",
    "selected_range = \"1W\""
   ]
  },
  {
   "cell_type": "code",
   "execution_count": 145,
   "metadata": {},
   "outputs": [],
   "source": [
    "stored_data = data.to_dict()"
   ]
  },
  {
   "cell_type": "code",
   "execution_count": 146,
   "metadata": {},
   "outputs": [],
   "source": [
    "data.index = pd.to_datetime(data.index)\n",
    "\n",
    "# Get today's date as a Pandas Timestamp\n",
    "today = pd.Timestamp.today()\n",
    "\n",
    "# Apply date filtering\n",
    "if selected_range == \"MAX\":\n",
    "    filtered_data = data  # No filtering, return all data\n",
    "elif selected_range == \"YTD\":\n",
    "    start_of_year = pd.Timestamp(today.year, 1, 1)  # First day of the year\n",
    "    filtered_data = data[data.index >= start_of_year]\n",
    "else:\n",
    "    days = date_ranges[selected_range]\n",
    "    filtered_data = data[data.index >= today - pd.Timedelta(days=days)]"
   ]
  },
  {
   "cell_type": "code",
   "execution_count": 147,
   "metadata": {},
   "outputs": [
    {
     "data": {
      "text/html": [
       "<div>\n",
       "<style scoped>\n",
       "    .dataframe tbody tr th:only-of-type {\n",
       "        vertical-align: middle;\n",
       "    }\n",
       "\n",
       "    .dataframe tbody tr th {\n",
       "        vertical-align: top;\n",
       "    }\n",
       "\n",
       "    .dataframe thead th {\n",
       "        text-align: right;\n",
       "    }\n",
       "</style>\n",
       "<table border=\"1\" class=\"dataframe\">\n",
       "  <thead>\n",
       "    <tr style=\"text-align: right;\">\n",
       "      <th></th>\n",
       "      <th>Open</th>\n",
       "      <th>High</th>\n",
       "      <th>Low</th>\n",
       "      <th>Close</th>\n",
       "      <th>Volume</th>\n",
       "    </tr>\n",
       "  </thead>\n",
       "  <tbody>\n",
       "    <tr>\n",
       "      <th>2025-03-07</th>\n",
       "      <td>235.110001</td>\n",
       "      <td>241.369995</td>\n",
       "      <td>234.759995</td>\n",
       "      <td>239.070007</td>\n",
       "      <td>46273600</td>\n",
       "    </tr>\n",
       "    <tr>\n",
       "      <th>2025-03-10</th>\n",
       "      <td>235.539993</td>\n",
       "      <td>236.160004</td>\n",
       "      <td>224.220001</td>\n",
       "      <td>227.479996</td>\n",
       "      <td>72071200</td>\n",
       "    </tr>\n",
       "    <tr>\n",
       "      <th>2025-03-11</th>\n",
       "      <td>223.809998</td>\n",
       "      <td>225.839996</td>\n",
       "      <td>217.449997</td>\n",
       "      <td>220.839996</td>\n",
       "      <td>76137400</td>\n",
       "    </tr>\n",
       "    <tr>\n",
       "      <th>2025-03-12</th>\n",
       "      <td>220.139999</td>\n",
       "      <td>221.750000</td>\n",
       "      <td>214.910004</td>\n",
       "      <td>216.979996</td>\n",
       "      <td>62547500</td>\n",
       "    </tr>\n",
       "  </tbody>\n",
       "</table>\n",
       "</div>"
      ],
      "text/plain": [
       "                  Open        High         Low       Close    Volume\n",
       "2025-03-07  235.110001  241.369995  234.759995  239.070007  46273600\n",
       "2025-03-10  235.539993  236.160004  224.220001  227.479996  72071200\n",
       "2025-03-11  223.809998  225.839996  217.449997  220.839996  76137400\n",
       "2025-03-12  220.139999  221.750000  214.910004  216.979996  62547500"
      ]
     },
     "execution_count": 147,
     "metadata": {},
     "output_type": "execute_result"
    }
   ],
   "source": [
    "filtered_data"
   ]
  },
  {
   "cell_type": "markdown",
   "metadata": {},
   "source": [
    "News API Testing for later"
   ]
  },
  {
   "cell_type": "code",
   "execution_count": 68,
   "metadata": {},
   "outputs": [],
   "source": [
    "api_key = \"cb4c4cd982be40bea3e0ac5635fb1360\""
   ]
  },
  {
   "cell_type": "code",
   "execution_count": 70,
   "metadata": {},
   "outputs": [],
   "source": [
    "newsapi = NewsApiClient(api_key='cb4c4cd982be40bea3e0ac5635fb1360')"
   ]
  },
  {
   "cell_type": "code",
   "execution_count": 151,
   "metadata": {},
   "outputs": [],
   "source": [
    "def fetch_news(name):\n",
    "    \"\"\"Fetches news articles for the given company name from News API\"\"\"\n",
    "    newsapi = NewsApiClient(api_key='cb4c4cd982be40bea3e0ac5635fb1360')\n",
    "    try:\n",
    "        response = newsapi.get_everything(q=name, language=\"en\", sort_by=\"relevancy\")\n",
    "        if response[\"status\"] == \"ok\":\n",
    "            news_articles = response[\"articles\"]\n",
    "            extracted_data = [\n",
    "                {\"date\": article[\"publishedAt\"][:10], \"title\": article[\"title\"], \"url\": article[\"url\"]}\n",
    "                for article in news_articles\n",
    "            ]\n",
    "            \n",
    "            return extracted_data\n",
    "\n",
    "        else:\n",
    "            raise Exception(\"Error fetching news articles\")\n",
    "    except Exception as e:\n",
    "        print(f\"Error fetching news articles: {str(e)}\")\n",
    "        return None\n"
   ]
  },
  {
   "cell_type": "code",
   "execution_count": 152,
   "metadata": {},
   "outputs": [],
   "source": [
    "news = fetch_news(\"Apple Inc.\")"
   ]
  },
  {
   "cell_type": "code",
   "execution_count": 154,
   "metadata": {},
   "outputs": [
    {
     "data": {
      "text/html": [
       "<div>\n",
       "<style scoped>\n",
       "    .dataframe tbody tr th:only-of-type {\n",
       "        vertical-align: middle;\n",
       "    }\n",
       "\n",
       "    .dataframe tbody tr th {\n",
       "        vertical-align: top;\n",
       "    }\n",
       "\n",
       "    .dataframe thead th {\n",
       "        text-align: right;\n",
       "    }\n",
       "</style>\n",
       "<table border=\"1\" class=\"dataframe\">\n",
       "  <thead>\n",
       "    <tr style=\"text-align: right;\">\n",
       "      <th></th>\n",
       "      <th>date</th>\n",
       "      <th>title</th>\n",
       "      <th>url</th>\n",
       "    </tr>\n",
       "  </thead>\n",
       "  <tbody>\n",
       "    <tr>\n",
       "      <th>0</th>\n",
       "      <td>2025-03-04</td>\n",
       "      <td>People Are Paying Millions to Dine With Donald...</td>\n",
       "      <td>https://www.wired.com/story/people-paying-mill...</td>\n",
       "    </tr>\n",
       "    <tr>\n",
       "      <th>1</th>\n",
       "      <td>2025-02-27</td>\n",
       "      <td>iPhone 16E review: Eh, it’s alright</td>\n",
       "      <td>https://www.theverge.com/reviews/620155/iphone...</td>\n",
       "    </tr>\n",
       "    <tr>\n",
       "      <th>2</th>\n",
       "      <td>2025-02-24</td>\n",
       "      <td>Steve Jobs Would Have Celebrated His 70th Birt...</td>\n",
       "      <td>https://www.macrumors.com/2025/02/24/steve-job...</td>\n",
       "    </tr>\n",
       "    <tr>\n",
       "      <th>3</th>\n",
       "      <td>2025-03-09</td>\n",
       "      <td>'Severance' director Ben Stiller compares Lumo...</td>\n",
       "      <td>https://www.businessinsider.com/severance-ben-...</td>\n",
       "    </tr>\n",
       "    <tr>\n",
       "      <th>4</th>\n",
       "      <td>2025-02-14</td>\n",
       "      <td>Third Point boosts its stake in these ‘Magnifi...</td>\n",
       "      <td>https://www.marketwatch.com/story/third-point-...</td>\n",
       "    </tr>\n",
       "    <tr>\n",
       "      <th>...</th>\n",
       "      <td>...</td>\n",
       "      <td>...</td>\n",
       "      <td>...</td>\n",
       "    </tr>\n",
       "    <tr>\n",
       "      <th>95</th>\n",
       "      <td>2025-02-18</td>\n",
       "      <td>Apple TV+ Unveils Sneak Peek at \"BE@RBRICK,\" T...</td>\n",
       "      <td>http://www.thefutoncritic.com/news/2025/02/18/...</td>\n",
       "    </tr>\n",
       "    <tr>\n",
       "      <th>96</th>\n",
       "      <td>2025-03-04</td>\n",
       "      <td>Federal Circuit Affirms Partial Win for Patent...</td>\n",
       "      <td>https://ipwatchdog.com/2025/03/04/federal-circ...</td>\n",
       "    </tr>\n",
       "    <tr>\n",
       "      <th>97</th>\n",
       "      <td>2025-03-12</td>\n",
       "      <td>Cosmic Mobile Game Releases - Katamari Damacy ...</td>\n",
       "      <td>https://www.trendhunter.com/trends/katamari-da...</td>\n",
       "    </tr>\n",
       "    <tr>\n",
       "      <th>98</th>\n",
       "      <td>2025-03-04</td>\n",
       "      <td>Amazon’s Alexa+ features include agentic AI fo...</td>\n",
       "      <td>https://www.digitalcommerce360.com/2025/03/04/...</td>\n",
       "    </tr>\n",
       "    <tr>\n",
       "      <th>99</th>\n",
       "      <td>2025-02-17</td>\n",
       "      <td>Today’s best iOS app deals and freebies: BE-A-...</td>\n",
       "      <td>http://9to5toys.com/2025/02/17/todays-best-ios...</td>\n",
       "    </tr>\n",
       "  </tbody>\n",
       "</table>\n",
       "<p>100 rows × 3 columns</p>\n",
       "</div>"
      ],
      "text/plain": [
       "          date                                              title  \\\n",
       "0   2025-03-04  People Are Paying Millions to Dine With Donald...   \n",
       "1   2025-02-27                iPhone 16E review: Eh, it’s alright   \n",
       "2   2025-02-24  Steve Jobs Would Have Celebrated His 70th Birt...   \n",
       "3   2025-03-09  'Severance' director Ben Stiller compares Lumo...   \n",
       "4   2025-02-14  Third Point boosts its stake in these ‘Magnifi...   \n",
       "..         ...                                                ...   \n",
       "95  2025-02-18  Apple TV+ Unveils Sneak Peek at \"BE@RBRICK,\" T...   \n",
       "96  2025-03-04  Federal Circuit Affirms Partial Win for Patent...   \n",
       "97  2025-03-12  Cosmic Mobile Game Releases - Katamari Damacy ...   \n",
       "98  2025-03-04  Amazon’s Alexa+ features include agentic AI fo...   \n",
       "99  2025-02-17  Today’s best iOS app deals and freebies: BE-A-...   \n",
       "\n",
       "                                                  url  \n",
       "0   https://www.wired.com/story/people-paying-mill...  \n",
       "1   https://www.theverge.com/reviews/620155/iphone...  \n",
       "2   https://www.macrumors.com/2025/02/24/steve-job...  \n",
       "3   https://www.businessinsider.com/severance-ben-...  \n",
       "4   https://www.marketwatch.com/story/third-point-...  \n",
       "..                                                ...  \n",
       "95  http://www.thefutoncritic.com/news/2025/02/18/...  \n",
       "96  https://ipwatchdog.com/2025/03/04/federal-circ...  \n",
       "97  https://www.trendhunter.com/trends/katamari-da...  \n",
       "98  https://www.digitalcommerce360.com/2025/03/04/...  \n",
       "99  http://9to5toys.com/2025/02/17/todays-best-ios...  \n",
       "\n",
       "[100 rows x 3 columns]"
      ]
     },
     "execution_count": 154,
     "metadata": {},
     "output_type": "execute_result"
    }
   ],
   "source": [
    "pd.DataFrame(news)"
   ]
  }
 ],
 "metadata": {
  "kernelspec": {
   "display_name": "venv",
   "language": "python",
   "name": "python3"
  },
  "language_info": {
   "codemirror_mode": {
    "name": "ipython",
    "version": 3
   },
   "file_extension": ".py",
   "mimetype": "text/x-python",
   "name": "python",
   "nbconvert_exporter": "python",
   "pygments_lexer": "ipython3",
   "version": "3.12.4"
  }
 },
 "nbformat": 4,
 "nbformat_minor": 2
}
